{
 "cells": [
  {
   "cell_type": "code",
   "execution_count": 1,
   "outputs": [],
   "source": [
    "import pandas as pd\n",
    "import numpy as np\n",
    "import seaborn as sns\n",
    "import matplotlib.pyplot as plt\n",
    "import warnings\n",
    "warnings.filterwarnings('ignore')"
   ],
   "metadata": {
    "collapsed": false,
    "pycharm": {
     "name": "#%%\n"
    }
   }
  },
  {
   "cell_type": "code",
   "execution_count": 2,
   "outputs": [],
   "source": [
    "import os\n",
    "file_path = 'Car_Prediction_Splitdata/big/scaled_big_car_used_data_without_outliers.csv'\n",
    "file_name_with_extension = os.path.basename(file_path)\n",
    "file_name, file_extension = os.path.splitext(file_name_with_extension)"
   ],
   "metadata": {
    "collapsed": false,
    "pycharm": {
     "name": "#%%\n"
    }
   }
  },
  {
   "cell_type": "code",
   "execution_count": 3,
   "outputs": [],
   "source": [
    "import csv\n",
    "import math\n",
    "\n",
    "data = [\n",
    "    ['RandomForestRegressor', None, None, None, None, None, None],\n",
    "    ['DecisionTreeRegressor', None, None, None, None, None, None],\n",
    "    ['XGBRegressor', None, None, None, None, None, None],\n",
    "    ['GradientBoostingRegressor', None, None, None, None, None, None],\n",
    "    ['BaggingRegressor', None, None, None, None, None, None]\n",
    "]\n",
    "\n",
    "# Tên tiêu đề cột\n",
    "header = ['Regressor', 'R2_Score','Cross validation score', 'mean_squared_error', 'mean_absolute_error', 'root_mean_squared_error', 'Diff']\n",
    "\n",
    "file_name = file_name + '_result.csv'\n",
    "\n",
    "# Tạo và ghi vào file CSV\n",
    "with open(file_name, 'w', newline='') as file:\n",
    "    writer = csv.writer(file)\n",
    "    writer.writerow(header)\n",
    "    writer.writerows(data)"
   ],
   "metadata": {
    "collapsed": false,
    "pycharm": {
     "name": "#%%\n"
    }
   }
  },
  {
   "cell_type": "code",
   "execution_count": 17,
   "outputs": [],
   "source": [
    "def write_result(name,r2_score_value,scores_value,mean_squared_error,mean_absolute_error,root_mean_squared_error,diff_value):\n",
    "    data = []\n",
    "    with open(file_name, 'r') as file:\n",
    "        reader = csv.reader(file)\n",
    "        data = list(reader)\n",
    "    for row in data:\n",
    "        if row[0] == name:\n",
    "            row[1] = r2_score_value\n",
    "            row[2] = scores_value\n",
    "            row[3] = mean_squared_error\n",
    "            row[4] = mean_absolute_error\n",
    "            row[5] = root_mean_squared_error\n",
    "            row[6] = diff_value\n",
    "\n",
    "    # Ghi lại dữ liệu đã cập nhật vào file CSV\n",
    "    with open(file_name, 'w', newline='') as file:\n",
    "        writer = csv.writer(file)\n",
    "        writer.writerows(data)"
   ],
   "metadata": {
    "collapsed": false,
    "pycharm": {
     "name": "#%%\n"
    }
   }
  },
  {
   "cell_type": "code",
   "execution_count": 5,
   "outputs": [
    {
     "data": {
      "text/plain": "   maker_model  variants  body_type      type      seat      door   mileage  \\\n0    -1.500732  0.218697   0.432838  0.419615  0.155585 -0.434644  0.001551   \n1     1.378892  1.072503   1.892137  0.419615  0.155585  0.747059  1.233923   \n2     1.139887  0.625644   1.892137  0.419615 -2.087196 -0.434644  0.080259   \n3    -1.250162  1.602914   0.676054  0.419615  0.155585 -0.434644  0.452509   \n4    -0.005024  1.528313   0.676054  0.419615  0.155585  0.747059 -0.319185   \n\n   non_smoker_vehicle     power   gearbox  engine_size  fuel_type  \\\n0           -1.731057  1.184217 -0.622976     1.659834  -0.893533   \n1           -1.731057  0.001310 -0.622976     0.167338  -1.030581   \n2            0.577682 -0.843624 -0.622976     0.167338  -1.030581   \n3            0.577682  1.860164 -0.622976     1.659834  -0.071245   \n4           -1.731057  1.606684 -0.622976     0.211348  -0.208293   \n\n   emission_classe    colour  manufacturer_colour  upholstery_colour  \\\n0         0.676952 -0.013877            -0.329873           1.475672   \n1        -0.730413  0.214151            -0.336679          -0.341382   \n2        -0.730413  1.126263            -0.916565          -0.341382   \n3        -0.730413 -1.154017             1.122565          -1.249909   \n4         0.676952  0.898235             0.299018          -0.341382   \n\n   upholstery   car_age  inspection_interval  price (€)  \n0   -0.112568 -0.768208             0.465802      74960  \n1   -0.818723  0.362626             0.465802      22970  \n2    1.299740 -0.391263            -0.963469      27999  \n3   -0.112568  0.362626             0.465802      38499  \n4    1.299740 -0.391263             0.465802      38560  ",
      "text/html": "<div>\n<style scoped>\n    .dataframe tbody tr th:only-of-type {\n        vertical-align: middle;\n    }\n\n    .dataframe tbody tr th {\n        vertical-align: top;\n    }\n\n    .dataframe thead th {\n        text-align: right;\n    }\n</style>\n<table border=\"1\" class=\"dataframe\">\n  <thead>\n    <tr style=\"text-align: right;\">\n      <th></th>\n      <th>maker_model</th>\n      <th>variants</th>\n      <th>body_type</th>\n      <th>type</th>\n      <th>seat</th>\n      <th>door</th>\n      <th>mileage</th>\n      <th>non_smoker_vehicle</th>\n      <th>power</th>\n      <th>gearbox</th>\n      <th>engine_size</th>\n      <th>fuel_type</th>\n      <th>emission_classe</th>\n      <th>colour</th>\n      <th>manufacturer_colour</th>\n      <th>upholstery_colour</th>\n      <th>upholstery</th>\n      <th>car_age</th>\n      <th>inspection_interval</th>\n      <th>price (€)</th>\n    </tr>\n  </thead>\n  <tbody>\n    <tr>\n      <th>0</th>\n      <td>-1.500732</td>\n      <td>0.218697</td>\n      <td>0.432838</td>\n      <td>0.419615</td>\n      <td>0.155585</td>\n      <td>-0.434644</td>\n      <td>0.001551</td>\n      <td>-1.731057</td>\n      <td>1.184217</td>\n      <td>-0.622976</td>\n      <td>1.659834</td>\n      <td>-0.893533</td>\n      <td>0.676952</td>\n      <td>-0.013877</td>\n      <td>-0.329873</td>\n      <td>1.475672</td>\n      <td>-0.112568</td>\n      <td>-0.768208</td>\n      <td>0.465802</td>\n      <td>74960</td>\n    </tr>\n    <tr>\n      <th>1</th>\n      <td>1.378892</td>\n      <td>1.072503</td>\n      <td>1.892137</td>\n      <td>0.419615</td>\n      <td>0.155585</td>\n      <td>0.747059</td>\n      <td>1.233923</td>\n      <td>-1.731057</td>\n      <td>0.001310</td>\n      <td>-0.622976</td>\n      <td>0.167338</td>\n      <td>-1.030581</td>\n      <td>-0.730413</td>\n      <td>0.214151</td>\n      <td>-0.336679</td>\n      <td>-0.341382</td>\n      <td>-0.818723</td>\n      <td>0.362626</td>\n      <td>0.465802</td>\n      <td>22970</td>\n    </tr>\n    <tr>\n      <th>2</th>\n      <td>1.139887</td>\n      <td>0.625644</td>\n      <td>1.892137</td>\n      <td>0.419615</td>\n      <td>-2.087196</td>\n      <td>-0.434644</td>\n      <td>0.080259</td>\n      <td>0.577682</td>\n      <td>-0.843624</td>\n      <td>-0.622976</td>\n      <td>0.167338</td>\n      <td>-1.030581</td>\n      <td>-0.730413</td>\n      <td>1.126263</td>\n      <td>-0.916565</td>\n      <td>-0.341382</td>\n      <td>1.299740</td>\n      <td>-0.391263</td>\n      <td>-0.963469</td>\n      <td>27999</td>\n    </tr>\n    <tr>\n      <th>3</th>\n      <td>-1.250162</td>\n      <td>1.602914</td>\n      <td>0.676054</td>\n      <td>0.419615</td>\n      <td>0.155585</td>\n      <td>-0.434644</td>\n      <td>0.452509</td>\n      <td>0.577682</td>\n      <td>1.860164</td>\n      <td>-0.622976</td>\n      <td>1.659834</td>\n      <td>-0.071245</td>\n      <td>-0.730413</td>\n      <td>-1.154017</td>\n      <td>1.122565</td>\n      <td>-1.249909</td>\n      <td>-0.112568</td>\n      <td>0.362626</td>\n      <td>0.465802</td>\n      <td>38499</td>\n    </tr>\n    <tr>\n      <th>4</th>\n      <td>-0.005024</td>\n      <td>1.528313</td>\n      <td>0.676054</td>\n      <td>0.419615</td>\n      <td>0.155585</td>\n      <td>0.747059</td>\n      <td>-0.319185</td>\n      <td>-1.731057</td>\n      <td>1.606684</td>\n      <td>-0.622976</td>\n      <td>0.211348</td>\n      <td>-0.208293</td>\n      <td>0.676952</td>\n      <td>0.898235</td>\n      <td>0.299018</td>\n      <td>-0.341382</td>\n      <td>1.299740</td>\n      <td>-0.391263</td>\n      <td>0.465802</td>\n      <td>38560</td>\n    </tr>\n  </tbody>\n</table>\n</div>"
     },
     "execution_count": 5,
     "metadata": {},
     "output_type": "execute_result"
    }
   ],
   "source": [
    "df= pd.read_csv('Car_Prediction_Splitdata/big/scaled_big_car_used_data_without_outliers.csv')\n",
    "df.head()"
   ],
   "metadata": {
    "collapsed": false,
    "pycharm": {
     "name": "#%%\n"
    }
   }
  },
  {
   "cell_type": "code",
   "execution_count": 6,
   "outputs": [],
   "source": [
    "X = df.drop(['price (€)'], axis = 1)\n",
    "Y = df['price (€)']"
   ],
   "metadata": {
    "collapsed": false,
    "pycharm": {
     "name": "#%%\n"
    }
   }
  },
  {
   "cell_type": "code",
   "execution_count": 7,
   "outputs": [],
   "source": [
    "from sklearn.ensemble import RandomForestRegressor\n",
    "from sklearn.tree import DecisionTreeRegressor\n",
    "from xgboost import XGBRegressor\n",
    "from sklearn.ensemble import  GradientBoostingRegressor\n",
    "from sklearn.ensemble import BaggingRegressor"
   ],
   "metadata": {
    "collapsed": false,
    "pycharm": {
     "name": "#%%\n"
    }
   }
  },
  {
   "cell_type": "code",
   "execution_count": 8,
   "outputs": [],
   "source": [
    "from sklearn.metrics import mean_squared_error, mean_absolute_error,  r2_score\n",
    "from sklearn.model_selection import train_test_split"
   ],
   "metadata": {
    "collapsed": false,
    "pycharm": {
     "name": "#%%\n"
    }
   }
  },
  {
   "cell_type": "code",
   "execution_count": 9,
   "outputs": [
    {
     "name": "stdout",
     "output_type": "stream",
     "text": [
      "Training feature matrix size: (7315, 19)\n",
      "Training target vector size: (7315,)\n",
      "Test feature matrix size: (3136, 19)\n",
      "Test target vector size: (3136,)\n"
     ]
    }
   ],
   "source": [
    "X_train, X_test, Y_train, Y_test = train_test_split(X, Y, random_state=42, test_size=.3)\n",
    "print('Training feature matrix size:',X_train.shape)\n",
    "print('Training target vector size:',Y_train.shape)\n",
    "print('Test feature matrix size:',X_test.shape)\n",
    "print('Test target vector size:',Y_test.shape)"
   ],
   "metadata": {
    "collapsed": false,
    "pycharm": {
     "name": "#%%\n"
    }
   }
  },
  {
   "cell_type": "code",
   "execution_count": 10,
   "outputs": [
    {
     "name": "stdout",
     "output_type": "stream",
     "text": [
      "Best accuracy is  0.8320922012273809  on Random_state  3\n"
     ]
    }
   ],
   "source": [
    "maxAccu=0\n",
    "maxRS=0\n",
    "for i in range(1,10):\n",
    "    X_train, X_test, Y_train, Y_test = train_test_split(X, Y, random_state=i, test_size=.3)\n",
    "    mod = RandomForestRegressor()\n",
    "    mod.fit(X_train, Y_train)\n",
    "    pred = mod.predict(X_test)\n",
    "    acc=r2_score(Y_test, pred)\n",
    "    if acc>maxAccu:\n",
    "        maxAccu=acc\n",
    "        maxRS=i\n",
    "print(\"Best accuracy is \",maxAccu,\" on Random_state \",maxRS)"
   ],
   "metadata": {
    "collapsed": false,
    "pycharm": {
     "name": "#%%\n"
    }
   }
  },
  {
   "cell_type": "code",
   "execution_count": 18,
   "outputs": [
    {
     "name": "stdout",
     "output_type": "stream",
     "text": [
      "R2_score: 82.66941484438189\n",
      "mean_squared_error: 257438484.01092896\n",
      "mean_absolute_error: 5439.047658846574\n",
      "root_mean_squared_error: 16044.889654058981\n",
      "\n",
      "Cross validation score : 81.82401911156249\n",
      "\n",
      "R2_Score - Cross Validation Score : 0.845395732819398\n"
     ]
    }
   ],
   "source": [
    "from sklearn.model_selection import cross_val_score\n",
    "from sklearn.metrics import mean_squared_error\n",
    "RFR=RandomForestRegressor()\n",
    "RFR.fit(X_train,Y_train)\n",
    "pred=RFR.predict(X_test)\n",
    "R2_score = r2_score(Y_test,pred)*100\n",
    "print('R2_score:',R2_score)\n",
    "print('mean_squared_error:',mean_squared_error(Y_test,pred))\n",
    "print('mean_absolute_error:',mean_absolute_error(Y_test,pred))\n",
    "print('root_mean_squared_error:',np.sqrt(mean_squared_error(Y_test,pred)))\n",
    "\n",
    "# Cross Validation Score\n",
    "scores = cross_val_score(RFR, X, Y, cv = 10).mean()*100\n",
    "print(\"\\nCross validation score :\", scores)\n",
    "\n",
    "# Difference between Accuracy and CV Score\n",
    "diff = R2_score - scores\n",
    "print(\"\\nR2_Score - Cross Validation Score :\", diff)\n",
    "\n",
    "write_result('RandomForestRegressor',R2_score,scores,mean_squared_error(Y_test,pred),mean_absolute_error(Y_test,pred),np.sqrt(mean_squared_error(Y_test,pred)),diff)"
   ],
   "metadata": {
    "collapsed": false,
    "pycharm": {
     "name": "#%%\n"
    }
   }
  },
  {
   "cell_type": "code",
   "execution_count": 19,
   "outputs": [
    {
     "name": "stdout",
     "output_type": "stream",
     "text": [
      "R2_score: 88.98050293188234\n",
      "mean_squared_error: 163689950.1260901\n",
      "mean_absolute_error: 4877.996127887648\n",
      "root_mean_squared_error: 12794.13733418905\n",
      "\n",
      "Cross validation score : 85.39067255902012\n",
      "\n",
      "R2_Score - Cross Validation Score : 3.589830372862224\n"
     ]
    }
   ],
   "source": [
    "XGB=XGBRegressor()\n",
    "XGB.fit(X_train,Y_train)\n",
    "pred=XGB.predict(X_test)\n",
    "R2_score = r2_score(Y_test,pred)*100\n",
    "print('R2_score:',R2_score)\n",
    "print('mean_squared_error:',mean_squared_error(Y_test,pred))\n",
    "print('mean_absolute_error:',mean_absolute_error(Y_test,pred))\n",
    "print('root_mean_squared_error:',np.sqrt(mean_squared_error(Y_test,pred)))\n",
    "\n",
    "# Cross Validation on XGB Model\n",
    "scores = cross_val_score(XGB, X, Y, cv = 10).mean()*100\n",
    "print(\"\\nCross validation score :\", scores)\n",
    "\n",
    "# Difference between Accuracy and CV Score\n",
    "diff = R2_score - scores\n",
    "print(\"\\nR2_Score - Cross Validation Score :\", diff)\n",
    "\n",
    "write_result('XGBRegressor',R2_score,scores,mean_squared_error(Y_test,pred),mean_absolute_error(Y_test,pred),np.sqrt(mean_squared_error(Y_test,pred)),diff)"
   ],
   "metadata": {
    "collapsed": false,
    "pycharm": {
     "name": "#%%\n"
    }
   }
  },
  {
   "cell_type": "code",
   "execution_count": 20,
   "outputs": [
    {
     "name": "stdout",
     "output_type": "stream",
     "text": [
      "R2_score: 76.03586894781915\n",
      "mean_squared_error: 355976991.7354895\n",
      "mean_absolute_error: 7019.151876985552\n",
      "root_mean_squared_error: 18867.352536471288\n",
      "\n",
      "Cross validation score : 75.99928065514453\n",
      "\n",
      "R2_Score - Cross Validation Score : 0.03658829267462238\n"
     ]
    }
   ],
   "source": [
    "GBR=GradientBoostingRegressor()\n",
    "GBR.fit(X_train,Y_train)\n",
    "pred=GBR.predict(X_test)\n",
    "R2_score = r2_score(Y_test,pred)*100\n",
    "print('R2_score:',R2_score)\n",
    "print('mean_squared_error:',mean_squared_error(Y_test,pred))\n",
    "print('mean_absolute_error:',mean_absolute_error(Y_test,pred))\n",
    "print('root_mean_squared_error:',np.sqrt(mean_squared_error(Y_test,pred)))\n",
    "\n",
    "# Cross Validation on Gradient Boosting\n",
    "scores = cross_val_score(GBR, X, Y, cv = 10).mean()*100\n",
    "print(\"\\nCross validation score :\", scores)\n",
    "\n",
    "# Difference between Accuracy and CV Score\n",
    "diff = R2_score - scores\n",
    "print(\"\\nR2_Score - Cross Validation Score :\", diff)\n",
    "\n",
    "write_result('GradientBoostingRegressor',R2_score,scores,mean_squared_error(Y_test,pred),mean_absolute_error(Y_test,pred),np.sqrt(mean_squared_error(Y_test,pred)),diff)"
   ],
   "metadata": {
    "collapsed": false,
    "pycharm": {
     "name": "#%%\n"
    }
   }
  },
  {
   "cell_type": "code",
   "execution_count": 21,
   "outputs": [
    {
     "name": "stdout",
     "output_type": "stream",
     "text": [
      "R2_score: 76.09211061084423\n",
      "mean_squared_error: 355141545.7111678\n",
      "mean_absolute_error: 7074.297512755102\n",
      "root_mean_squared_error: 18845.199540232195\n",
      "\n",
      "Cross validation score : 64.40540772805483\n",
      "\n",
      "R2_Score - Cross Validation Score : 11.686702882789405\n"
     ]
    }
   ],
   "source": [
    "DTR=DecisionTreeRegressor()\n",
    "DTR.fit(X_train,Y_train)\n",
    "pred=DTR.predict(X_test)\n",
    "R2_score = r2_score(Y_test,pred)*100\n",
    "print('R2_score:',R2_score)\n",
    "print('mean_squared_error:',mean_squared_error(Y_test,pred))\n",
    "print('mean_absolute_error:',mean_absolute_error(Y_test,pred))\n",
    "print('root_mean_squared_error:',np.sqrt(mean_squared_error(Y_test,pred)))\n",
    "# Cross Validation Score\n",
    "scores = cross_val_score(DTR, X, Y, cv = 10).mean()*100\n",
    "print(\"\\nCross validation score :\", scores)\n",
    "\n",
    "# Difference between Accuracy and CV Score\n",
    "diff = R2_score - scores\n",
    "print(\"\\nR2_Score - Cross Validation Score :\", diff)\n",
    "\n",
    "write_result('DecisionTreeRegressor',R2_score,scores,mean_squared_error(Y_test,pred),mean_absolute_error(Y_test,pred),np.sqrt(mean_squared_error(Y_test,pred)),diff)"
   ],
   "metadata": {
    "collapsed": false,
    "pycharm": {
     "name": "#%%\n"
    }
   }
  },
  {
   "cell_type": "code",
   "execution_count": 22,
   "outputs": [
    {
     "name": "stdout",
     "output_type": "stream",
     "text": [
      "R2_score: 78.02791000885651\n",
      "mean_squared_error: 326386067.58399105\n",
      "mean_absolute_error: 5861.581058673469\n",
      "root_mean_squared_error: 18066.15807480913\n",
      "\n",
      "Cross validation score : 79.78357257971882\n",
      "\n",
      "R2_Score - Cross Validation Score : -1.755662570862313\n"
     ]
    }
   ],
   "source": [
    "BR=BaggingRegressor()\n",
    "BR.fit(X_train,Y_train)\n",
    "pred=BR.predict(X_test)\n",
    "R2_score = r2_score(Y_test,pred)*100\n",
    "print('R2_score:',R2_score)\n",
    "print('mean_squared_error:',mean_squared_error(Y_test,pred))\n",
    "print('mean_absolute_error:',mean_absolute_error(Y_test,pred))\n",
    "print('root_mean_squared_error:',np.sqrt(mean_squared_error(Y_test,pred)))\n",
    "\n",
    "# Cross Validation Score\n",
    "scores = cross_val_score(BR, X, Y, cv = 10).mean()*100\n",
    "print(\"\\nCross validation score :\", scores)\n",
    "\n",
    "# Difference between Accuracy and CV Score\n",
    "diff = R2_score - scores\n",
    "print(\"\\nR2_Score - Cross Validation Score :\", diff)\n",
    "\n",
    "write_result('BaggingRegressor',R2_score,scores,mean_squared_error(Y_test,pred),mean_absolute_error(Y_test,pred),np.sqrt(mean_squared_error(Y_test,pred)),diff)"
   ],
   "metadata": {
    "collapsed": false,
    "pycharm": {
     "name": "#%%\n"
    }
   }
  },
  {
   "cell_type": "code",
   "execution_count": 16,
   "outputs": [],
   "source": [
    "from sklearn.model_selection import GridSearchCV"
   ],
   "metadata": {
    "collapsed": false,
    "pycharm": {
     "name": "#%%\n"
    }
   }
  },
  {
   "cell_type": "code",
   "execution_count": 16,
   "outputs": [],
   "source": [],
   "metadata": {
    "collapsed": false,
    "pycharm": {
     "name": "#%%\n"
    }
   }
  }
 ],
 "metadata": {
  "kernelspec": {
   "display_name": "Python 3",
   "language": "python",
   "name": "python3"
  },
  "language_info": {
   "codemirror_mode": {
    "name": "ipython",
    "version": 2
   },
   "file_extension": ".py",
   "mimetype": "text/x-python",
   "name": "python",
   "nbconvert_exporter": "python",
   "pygments_lexer": "ipython2",
   "version": "2.7.6"
  }
 },
 "nbformat": 4,
 "nbformat_minor": 0
}