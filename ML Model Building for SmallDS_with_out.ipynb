{
 "cells": [
  {
   "cell_type": "code",
   "execution_count": 1,
   "outputs": [],
   "source": [
    "import pandas as pd\n",
    "import numpy as np\n",
    "import seaborn as sns\n",
    "import matplotlib.pyplot as plt\n",
    "import warnings\n",
    "warnings.filterwarnings('ignore')"
   ],
   "metadata": {
    "collapsed": false,
    "pycharm": {
     "name": "#%%\n"
    }
   }
  },
  {
   "cell_type": "code",
   "execution_count": 2,
   "outputs": [],
   "source": [
    "import os\n",
    "file_path = 'Car_Prediction_Splitdata/small/scaled_small_car_used_data_with_outliers.csv'\n",
    "file_name_with_extension = os.path.basename(file_path)\n",
    "file_name, file_extension = os.path.splitext(file_name_with_extension)"
   ],
   "metadata": {
    "collapsed": false,
    "pycharm": {
     "name": "#%%\n"
    }
   }
  },
  {
   "cell_type": "code",
   "execution_count": 3,
   "outputs": [],
   "source": [
    "import csv\n",
    "import math\n",
    "\n",
    "data = [\n",
    "    ['RandomForestRegressor', None, None, None, None, None, None],\n",
    "    ['DecisionTreeRegressor', None, None, None, None, None, None],\n",
    "    ['XGBRegressor', None, None, None, None, None, None],\n",
    "    ['GradientBoostingRegressor', None, None, None, None, None, None],\n",
    "    ['BaggingRegressor', None, None, None, None, None, None]\n",
    "]\n",
    "\n",
    "# Tên tiêu đề cột\n",
    "header = ['Regressor', 'R2_Score','Cross validation score', 'mean_squared_error', 'mean_absolute_error', 'root_mean_squared_error', 'Diff']\n",
    "\n",
    "file_name = file_name + '_result.csv'\n",
    "\n",
    "# Tạo và ghi vào file CSV\n",
    "with open(file_name, 'w', newline='') as file:\n",
    "    writer = csv.writer(file)\n",
    "    writer.writerow(header)\n",
    "    writer.writerows(data)"
   ],
   "metadata": {
    "collapsed": false,
    "pycharm": {
     "name": "#%%\n"
    }
   }
  },
  {
   "cell_type": "code",
   "execution_count": 17,
   "outputs": [],
   "source": [
    "def write_result(name,r2_score_value,scores_value,mean_squared_error,mean_absolute_error,root_mean_squared_error,diff_value):\n",
    "    data = []\n",
    "    with open(file_name, 'r') as file:\n",
    "        reader = csv.reader(file)\n",
    "        data = list(reader)\n",
    "    for row in data:\n",
    "        if row[0] == name:\n",
    "            row[1] = r2_score_value\n",
    "            row[2] = scores_value\n",
    "            row[3] = mean_squared_error\n",
    "            row[4] = mean_absolute_error\n",
    "            row[5] = root_mean_squared_error\n",
    "            row[6] = diff_value\n",
    "\n",
    "    # Ghi lại dữ liệu đã cập nhật vào file CSV\n",
    "    with open(file_name, 'w', newline='') as file:\n",
    "        writer = csv.writer(file)\n",
    "        writer.writerows(data)"
   ],
   "metadata": {
    "collapsed": false,
    "pycharm": {
     "name": "#%%\n"
    }
   }
  },
  {
   "cell_type": "code",
   "execution_count": 5,
   "outputs": [
    {
     "data": {
      "text/plain": "   maker_model  variants  body_type      type      seat      door   mileage  \\\n0     1.169517 -1.080698  -1.735770  0.433322 -0.956197 -2.670224  0.068467   \n1    -0.349758  1.013820  -0.471444 -0.511816  0.168741  0.758355 -0.992051   \n2     1.270243 -1.427755   0.792883 -2.402093  0.168741  0.758355 -0.832757   \n3    -0.668721  0.867691   0.792883  0.433322  0.168741 -0.384505  1.250639   \n4     0.590346 -1.287714   0.792883  0.433322  0.168741  0.758355 -0.570072   \n\n   non_smoker_vehicle     power   gearbox  engine_size  fuel_type  \\\n0            0.565606 -0.166636 -0.642786     0.043305  -0.034226   \n1            0.565606 -0.322096 -0.642786    -0.573084   1.227865   \n2            0.565606 -0.425736  1.555728    -0.553438   0.596820   \n3           -1.768014 -0.425736  1.555728    -0.433107   0.596820   \n4            0.565606 -0.231411 -0.642786     0.008925  -0.875621   \n\n   emission_classe    colour  manufacturer_colour  upholstery_colour  \\\n0        -0.885802  0.156766            -0.857715          -0.368349   \n1         0.556912  0.156766             1.671381          -0.368349   \n2         0.556912  0.156766             0.342344          -0.368349   \n3        -1.607159 -1.131425             0.684417          -0.368349   \n4         1.278269  0.156766             0.925550          -0.368349   \n\n   upholstery   car_age  inspection_interval  price (€)  \n0   -0.059472  0.170787            -0.946833      24899  \n1    1.402546 -1.160317            -0.946833      27990  \n2   -0.790481 -0.894096             0.496659      34980  \n3   -0.790481  1.768113             0.496659       8890  \n4    0.671537 -0.095433             0.496659      20780  ",
      "text/html": "<div>\n<style scoped>\n    .dataframe tbody tr th:only-of-type {\n        vertical-align: middle;\n    }\n\n    .dataframe tbody tr th {\n        vertical-align: top;\n    }\n\n    .dataframe thead th {\n        text-align: right;\n    }\n</style>\n<table border=\"1\" class=\"dataframe\">\n  <thead>\n    <tr style=\"text-align: right;\">\n      <th></th>\n      <th>maker_model</th>\n      <th>variants</th>\n      <th>body_type</th>\n      <th>type</th>\n      <th>seat</th>\n      <th>door</th>\n      <th>mileage</th>\n      <th>non_smoker_vehicle</th>\n      <th>power</th>\n      <th>gearbox</th>\n      <th>engine_size</th>\n      <th>fuel_type</th>\n      <th>emission_classe</th>\n      <th>colour</th>\n      <th>manufacturer_colour</th>\n      <th>upholstery_colour</th>\n      <th>upholstery</th>\n      <th>car_age</th>\n      <th>inspection_interval</th>\n      <th>price (€)</th>\n    </tr>\n  </thead>\n  <tbody>\n    <tr>\n      <th>0</th>\n      <td>1.169517</td>\n      <td>-1.080698</td>\n      <td>-1.735770</td>\n      <td>0.433322</td>\n      <td>-0.956197</td>\n      <td>-2.670224</td>\n      <td>0.068467</td>\n      <td>0.565606</td>\n      <td>-0.166636</td>\n      <td>-0.642786</td>\n      <td>0.043305</td>\n      <td>-0.034226</td>\n      <td>-0.885802</td>\n      <td>0.156766</td>\n      <td>-0.857715</td>\n      <td>-0.368349</td>\n      <td>-0.059472</td>\n      <td>0.170787</td>\n      <td>-0.946833</td>\n      <td>24899</td>\n    </tr>\n    <tr>\n      <th>1</th>\n      <td>-0.349758</td>\n      <td>1.013820</td>\n      <td>-0.471444</td>\n      <td>-0.511816</td>\n      <td>0.168741</td>\n      <td>0.758355</td>\n      <td>-0.992051</td>\n      <td>0.565606</td>\n      <td>-0.322096</td>\n      <td>-0.642786</td>\n      <td>-0.573084</td>\n      <td>1.227865</td>\n      <td>0.556912</td>\n      <td>0.156766</td>\n      <td>1.671381</td>\n      <td>-0.368349</td>\n      <td>1.402546</td>\n      <td>-1.160317</td>\n      <td>-0.946833</td>\n      <td>27990</td>\n    </tr>\n    <tr>\n      <th>2</th>\n      <td>1.270243</td>\n      <td>-1.427755</td>\n      <td>0.792883</td>\n      <td>-2.402093</td>\n      <td>0.168741</td>\n      <td>0.758355</td>\n      <td>-0.832757</td>\n      <td>0.565606</td>\n      <td>-0.425736</td>\n      <td>1.555728</td>\n      <td>-0.553438</td>\n      <td>0.596820</td>\n      <td>0.556912</td>\n      <td>0.156766</td>\n      <td>0.342344</td>\n      <td>-0.368349</td>\n      <td>-0.790481</td>\n      <td>-0.894096</td>\n      <td>0.496659</td>\n      <td>34980</td>\n    </tr>\n    <tr>\n      <th>3</th>\n      <td>-0.668721</td>\n      <td>0.867691</td>\n      <td>0.792883</td>\n      <td>0.433322</td>\n      <td>0.168741</td>\n      <td>-0.384505</td>\n      <td>1.250639</td>\n      <td>-1.768014</td>\n      <td>-0.425736</td>\n      <td>1.555728</td>\n      <td>-0.433107</td>\n      <td>0.596820</td>\n      <td>-1.607159</td>\n      <td>-1.131425</td>\n      <td>0.684417</td>\n      <td>-0.368349</td>\n      <td>-0.790481</td>\n      <td>1.768113</td>\n      <td>0.496659</td>\n      <td>8890</td>\n    </tr>\n    <tr>\n      <th>4</th>\n      <td>0.590346</td>\n      <td>-1.287714</td>\n      <td>0.792883</td>\n      <td>0.433322</td>\n      <td>0.168741</td>\n      <td>0.758355</td>\n      <td>-0.570072</td>\n      <td>0.565606</td>\n      <td>-0.231411</td>\n      <td>-0.642786</td>\n      <td>0.008925</td>\n      <td>-0.875621</td>\n      <td>1.278269</td>\n      <td>0.156766</td>\n      <td>0.925550</td>\n      <td>-0.368349</td>\n      <td>0.671537</td>\n      <td>-0.095433</td>\n      <td>0.496659</td>\n      <td>20780</td>\n    </tr>\n  </tbody>\n</table>\n</div>"
     },
     "execution_count": 5,
     "metadata": {},
     "output_type": "execute_result"
    }
   ],
   "source": [
    "df= pd.read_csv('Car_Prediction_Splitdata/small/scaled_small_car_used_data_with_outliers.csv')\n",
    "df.head()"
   ],
   "metadata": {
    "collapsed": false,
    "pycharm": {
     "name": "#%%\n"
    }
   }
  },
  {
   "cell_type": "code",
   "execution_count": 6,
   "outputs": [],
   "source": [
    "X = df.drop(['price (€)'], axis = 1)\n",
    "Y = df['price (€)']"
   ],
   "metadata": {
    "collapsed": false,
    "pycharm": {
     "name": "#%%\n"
    }
   }
  },
  {
   "cell_type": "code",
   "execution_count": 7,
   "outputs": [],
   "source": [
    "from sklearn.ensemble import RandomForestRegressor\n",
    "from sklearn.tree import DecisionTreeRegressor\n",
    "from xgboost import XGBRegressor\n",
    "from sklearn.ensemble import  GradientBoostingRegressor\n",
    "from sklearn.ensemble import BaggingRegressor"
   ],
   "metadata": {
    "collapsed": false,
    "pycharm": {
     "name": "#%%\n"
    }
   }
  },
  {
   "cell_type": "code",
   "execution_count": 8,
   "outputs": [],
   "source": [
    "from sklearn.metrics import mean_squared_error, mean_absolute_error,  r2_score\n",
    "from sklearn.model_selection import train_test_split"
   ],
   "metadata": {
    "collapsed": false,
    "pycharm": {
     "name": "#%%\n"
    }
   }
  },
  {
   "cell_type": "code",
   "execution_count": 9,
   "outputs": [
    {
     "name": "stdout",
     "output_type": "stream",
     "text": [
      "Training feature matrix size: (826, 19)\n",
      "Training target vector size: (826,)\n",
      "Test feature matrix size: (354, 19)\n",
      "Test target vector size: (354,)\n"
     ]
    }
   ],
   "source": [
    "X_train, X_test, Y_train, Y_test = train_test_split(X, Y, random_state=42, test_size=.3)\n",
    "print('Training feature matrix size:',X_train.shape)\n",
    "print('Training target vector size:',Y_train.shape)\n",
    "print('Test feature matrix size:',X_test.shape)\n",
    "print('Test target vector size:',Y_test.shape)"
   ],
   "metadata": {
    "collapsed": false,
    "pycharm": {
     "name": "#%%\n"
    }
   }
  },
  {
   "cell_type": "code",
   "execution_count": 10,
   "outputs": [
    {
     "name": "stdout",
     "output_type": "stream",
     "text": [
      "Best accuracy is  0.8326448308994587  on Random_state  6\n"
     ]
    }
   ],
   "source": [
    "maxAccu=0\n",
    "maxRS=0\n",
    "for i in range(1,10):\n",
    "    X_train, X_test, Y_train, Y_test = train_test_split(X, Y, random_state=i, test_size=.3)\n",
    "    mod = RandomForestRegressor()\n",
    "    mod.fit(X_train, Y_train)\n",
    "    pred = mod.predict(X_test)\n",
    "    acc=r2_score(Y_test, pred)\n",
    "    if acc>maxAccu:\n",
    "        maxAccu=acc\n",
    "        maxRS=i\n",
    "print(\"Best accuracy is \",maxAccu,\" on Random_state \",maxRS)"
   ],
   "metadata": {
    "collapsed": false,
    "pycharm": {
     "name": "#%%\n"
    }
   }
  },
  {
   "cell_type": "code",
   "execution_count": 18,
   "outputs": [
    {
     "name": "stdout",
     "output_type": "stream",
     "text": [
      "R2_score: 69.5864602925956\n",
      "mean_squared_error: 331379624.8767153\n",
      "mean_absolute_error: 7837.335028248586\n",
      "root_mean_squared_error: 18203.83544412318\n",
      "\n",
      "Cross validation score : 69.704706754931\n",
      "\n",
      "R2_Score - Cross Validation Score : -0.11824646233539227\n"
     ]
    }
   ],
   "source": [
    "from sklearn.model_selection import cross_val_score\n",
    "from sklearn.metrics import mean_squared_error\n",
    "RFR=RandomForestRegressor()\n",
    "RFR.fit(X_train,Y_train)\n",
    "pred=RFR.predict(X_test)\n",
    "R2_score = r2_score(Y_test,pred)*100\n",
    "print('R2_score:',R2_score)\n",
    "print('mean_squared_error:',mean_squared_error(Y_test,pred))\n",
    "print('mean_absolute_error:',mean_absolute_error(Y_test,pred))\n",
    "print('root_mean_squared_error:',np.sqrt(mean_squared_error(Y_test,pred)))\n",
    "\n",
    "# Cross Validation Score\n",
    "scores = cross_val_score(RFR, X, Y, cv = 5).mean()*100\n",
    "print(\"\\nCross validation score :\", scores)\n",
    "\n",
    "# Difference between Accuracy and CV Score\n",
    "diff = R2_score - scores\n",
    "print(\"\\nR2_Score - Cross Validation Score :\", diff)\n",
    "\n",
    "write_result('RandomForestRegressor',R2_score,scores,mean_squared_error(Y_test,pred),mean_absolute_error(Y_test,pred),np.sqrt(mean_squared_error(Y_test,pred)),diff)"
   ],
   "metadata": {
    "collapsed": false,
    "pycharm": {
     "name": "#%%\n"
    }
   }
  },
  {
   "cell_type": "code",
   "execution_count": 19,
   "outputs": [
    {
     "name": "stdout",
     "output_type": "stream",
     "text": [
      "R2_score: 74.54647036527253\n",
      "mean_squared_error: 277336383.1797204\n",
      "mean_absolute_error: 7336.790434239274\n",
      "root_mean_squared_error: 16653.419564153195\n",
      "\n",
      "Cross validation score : 69.16580088015797\n",
      "\n",
      "R2_Score - Cross Validation Score : 5.380669485114552\n"
     ]
    }
   ],
   "source": [
    "XGB=XGBRegressor()\n",
    "XGB.fit(X_train,Y_train)\n",
    "pred=XGB.predict(X_test)\n",
    "R2_score = r2_score(Y_test,pred)*100\n",
    "print('R2_score:',R2_score)\n",
    "print('mean_squared_error:',mean_squared_error(Y_test,pred))\n",
    "print('mean_absolute_error:',mean_absolute_error(Y_test,pred))\n",
    "print('root_mean_squared_error:',np.sqrt(mean_squared_error(Y_test,pred)))\n",
    "\n",
    "# Cross Validation on XGB Model\n",
    "scores = cross_val_score(XGB, X, Y, cv = 5).mean()*100\n",
    "print(\"\\nCross validation score :\", scores)\n",
    "\n",
    "# Difference between Accuracy and CV Score\n",
    "diff = R2_score - scores\n",
    "print(\"\\nR2_Score - Cross Validation Score :\", diff)\n",
    "\n",
    "write_result('XGBRegressor',R2_score,scores,mean_squared_error(Y_test,pred),mean_absolute_error(Y_test,pred),np.sqrt(mean_squared_error(Y_test,pred)),diff)"
   ],
   "metadata": {
    "collapsed": false,
    "pycharm": {
     "name": "#%%\n"
    }
   }
  },
  {
   "cell_type": "code",
   "execution_count": 20,
   "outputs": [
    {
     "name": "stdout",
     "output_type": "stream",
     "text": [
      "R2_score: 72.19379582294036\n",
      "mean_squared_error: 302970637.3571526\n",
      "mean_absolute_error: 7556.507004329458\n",
      "root_mean_squared_error: 17406.05174521645\n",
      "\n",
      "Cross validation score : 77.13115170004838\n",
      "\n",
      "R2_Score - Cross Validation Score : -4.937355877108018\n"
     ]
    }
   ],
   "source": [
    "GBR=GradientBoostingRegressor()\n",
    "GBR.fit(X_train,Y_train)\n",
    "pred=GBR.predict(X_test)\n",
    "R2_score = r2_score(Y_test,pred)*100\n",
    "print('R2_score:',R2_score)\n",
    "print('mean_squared_error:',mean_squared_error(Y_test,pred))\n",
    "print('mean_absolute_error:',mean_absolute_error(Y_test,pred))\n",
    "print('root_mean_squared_error:',np.sqrt(mean_squared_error(Y_test,pred)))\n",
    "\n",
    "# Cross Validation on Gradient Boosting\n",
    "scores = cross_val_score(GBR, X, Y, cv = 10).mean()*100\n",
    "print(\"\\nCross validation score :\", scores)\n",
    "\n",
    "# Difference between Accuracy and CV Score\n",
    "diff = R2_score - scores\n",
    "print(\"\\nR2_Score - Cross Validation Score :\", diff)\n",
    "\n",
    "write_result('GradientBoostingRegressor',R2_score,scores,mean_squared_error(Y_test,pred),mean_absolute_error(Y_test,pred),np.sqrt(mean_squared_error(Y_test,pred)),diff)"
   ],
   "metadata": {
    "collapsed": false,
    "pycharm": {
     "name": "#%%\n"
    }
   }
  },
  {
   "cell_type": "code",
   "execution_count": 21,
   "outputs": [
    {
     "name": "stdout",
     "output_type": "stream",
     "text": [
      "R2_score: 65.42852330035784\n",
      "mean_squared_error: 376683644.5338983\n",
      "mean_absolute_error: 9583.353107344632\n",
      "root_mean_squared_error: 19408.33956148486\n",
      "\n",
      "Cross validation score : 45.906099458362675\n",
      "\n",
      "R2_Score - Cross Validation Score : 19.522423841995163\n"
     ]
    }
   ],
   "source": [
    "DTR=DecisionTreeRegressor()\n",
    "DTR.fit(X_train,Y_train)\n",
    "pred=DTR.predict(X_test)\n",
    "R2_score = r2_score(Y_test,pred)*100\n",
    "print('R2_score:',R2_score)\n",
    "print('mean_squared_error:',mean_squared_error(Y_test,pred))\n",
    "print('mean_absolute_error:',mean_absolute_error(Y_test,pred))\n",
    "print('root_mean_squared_error:',np.sqrt(mean_squared_error(Y_test,pred)))\n",
    "# Cross Validation Score\n",
    "scores = cross_val_score(DTR, X, Y, cv = 5).mean()*100\n",
    "print(\"\\nCross validation score :\", scores)\n",
    "\n",
    "# Difference between Accuracy and CV Score\n",
    "diff = R2_score - scores\n",
    "print(\"\\nR2_Score - Cross Validation Score :\", diff)\n",
    "\n",
    "write_result('DecisionTreeRegressor',R2_score,scores,mean_squared_error(Y_test,pred),mean_absolute_error(Y_test,pred),np.sqrt(mean_squared_error(Y_test,pred)),diff)"
   ],
   "metadata": {
    "collapsed": false,
    "pycharm": {
     "name": "#%%\n"
    }
   }
  },
  {
   "cell_type": "code",
   "execution_count": 22,
   "outputs": [
    {
     "name": "stdout",
     "output_type": "stream",
     "text": [
      "R2_score: 68.27623276036239\n",
      "mean_squared_error: 345655592.49875706\n",
      "mean_absolute_error: 8519.203389830509\n",
      "root_mean_squared_error: 18591.815201823545\n",
      "\n",
      "Cross validation score : 64.14111411263643\n",
      "\n",
      "R2_Score - Cross Validation Score : 4.13511864772596\n"
     ]
    }
   ],
   "source": [
    "BR=BaggingRegressor()\n",
    "BR.fit(X_train,Y_train)\n",
    "pred=BR.predict(X_test)\n",
    "R2_score = r2_score(Y_test,pred)*100\n",
    "print('R2_score:',R2_score)\n",
    "print('mean_squared_error:',mean_squared_error(Y_test,pred))\n",
    "print('mean_absolute_error:',mean_absolute_error(Y_test,pred))\n",
    "print('root_mean_squared_error:',np.sqrt(mean_squared_error(Y_test,pred)))\n",
    "\n",
    "# Cross Validation Score\n",
    "scores = cross_val_score(BR, X, Y, cv = 5).mean()*100\n",
    "print(\"\\nCross validation score :\", scores)\n",
    "\n",
    "# Difference between Accuracy and CV Score\n",
    "diff = R2_score - scores\n",
    "print(\"\\nR2_Score - Cross Validation Score :\", diff)\n",
    "\n",
    "write_result('BaggingRegressor',R2_score,scores,mean_squared_error(Y_test,pred),mean_absolute_error(Y_test,pred),np.sqrt(mean_squared_error(Y_test,pred)),diff)"
   ],
   "metadata": {
    "collapsed": false,
    "pycharm": {
     "name": "#%%\n"
    }
   }
  },
  {
   "cell_type": "code",
   "execution_count": 16,
   "outputs": [],
   "source": [
    "from sklearn.model_selection import GridSearchCV"
   ],
   "metadata": {
    "collapsed": false,
    "pycharm": {
     "name": "#%%\n"
    }
   }
  },
  {
   "cell_type": "code",
   "execution_count": 16,
   "outputs": [],
   "source": [],
   "metadata": {
    "collapsed": false,
    "pycharm": {
     "name": "#%%\n"
    }
   }
  }
 ],
 "metadata": {
  "kernelspec": {
   "display_name": "Python 3",
   "language": "python",
   "name": "python3"
  },
  "language_info": {
   "codemirror_mode": {
    "name": "ipython",
    "version": 2
   },
   "file_extension": ".py",
   "mimetype": "text/x-python",
   "name": "python",
   "nbconvert_exporter": "python",
   "pygments_lexer": "ipython2",
   "version": "2.7.6"
  }
 },
 "nbformat": 4,
 "nbformat_minor": 0
}